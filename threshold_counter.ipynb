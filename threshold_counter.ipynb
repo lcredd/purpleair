{
  "nbformat": 4,
  "nbformat_minor": 0,
  "metadata": {
    "colab": {
      "provenance": []
    },
    "kernelspec": {
      "name": "python3",
      "display_name": "Python 3"
    },
    "language_info": {
      "name": "python"
    }
  },
  "cells": [
    {
      "cell_type": "code",
      "source": [
        "import requests\n",
        "import pandas as pd\n",
        "from datetime import datetime, timedelta\n",
        "import os"
      ],
      "metadata": {
        "id": "NNjK1gbk18fk"
      },
      "execution_count": 16,
      "outputs": []
    },
    {
      "cell_type": "code",
      "source": [
        "# PurpleAir API key\n",
        "API_KEY = \"EAC45729-3AB7-11EE-A77F-42010A800009\"\n",
        "THRESHOLD = 5  # Example PM2.5 threshold (adjust as needed)\n",
        "DATA_FILE = \"os.path.join(os.path.dirname(__file__), "sensor_data.csv\"  # CSV file to store the results"
      ],
      "metadata": {
        "id": "nvJVIWai1-AO"
      },
      "execution_count": 17,
      "outputs": []
    },
    {
      "cell_type": "code",
      "source": [
        "# List of sensors with their metadata (sensor_id, name, lat, long)\n",
        "sensors = ['118509', '120937', '97139']"
      ],
      "metadata": {
        "id": "iVPpBrvc2Bkq"
      },
      "execution_count": 18,
      "outputs": []
    },
    {
      "cell_type": "code",
      "source": [
        "def get_sensor_data(sensor_index, start_time=None, end_time=None, read_key=None):\n",
        "    url = f\"https://api.purpleair.com/v1/sensors/{sensor_index}/history\"\n",
        "    headers = {\n",
        "        \"X-API-Key\": API_KEY\n",
        "    }\n",
        "    params = {}\n",
        "\n",
        "    # Optional parameters\n",
        "    if start_time:\n",
        "        params['start_timestamp'] = int(start_time.timestamp())\n",
        "    if end_time:\n",
        "        params['end_timestamp'] = int(end_time.timestamp())\n",
        "    if read_key:\n",
        "        params['read_key'] = read_key\n",
        "\n",
        "    # Include fields parameter to specify which data to return\n",
        "    params['fields'] = 'pm2.5_alt'  # Specify desired fields (add more if needed)\n",
        "    params['average'] = 1440  # Example: 60 minutes averaging\n",
        "\n",
        "    response = requests.get(url, headers=headers, params=params)\n",
        "\n",
        "    if response.status_code == 200:\n",
        "        print(f\"Data for sensor {sensor_index}: { response.json().get('data', [])}\")\n",
        "        return response.json().get('data', [])\n",
        "    else:\n",
        "        print(f\"Error fetching data for sensor {sensor_index}: {response.status_code}\")\n",
        "        print(f\"Response: {response.text}\")  # Print response text for details\n",
        "        return []"
      ],
      "metadata": {
        "id": "TVVlDFmNEud5"
      },
      "execution_count": 19,
      "outputs": []
    },
    {
      "cell_type": "code",
      "source": [
        "# Function to load existing data from the CSV file\n",
        "def load_existing_data(file):\n",
        "    if os.path.exists(file):\n",
        "        return pd.read_csv(file)\n",
        "    else:\n",
        "        # If the file doesn't exist, raise an error (since you already have the metadata)\n",
        "        raise FileNotFoundError(f\"File {file} does not exist.\")"
      ],
      "metadata": {
        "id": "m9lqgp-iFFGx"
      },
      "execution_count": 20,
      "outputs": []
    },
    {
      "cell_type": "code",
      "source": [
        "# Main function to calculate the daily average and threshold exceedance\n",
        "def calculate_days_over_threshold(threshold, file):\n",
        "    # Load existing data\n",
        "    results = load_existing_data(file)\n",
        "\n",
        "    # Loop over each sensor in the CSV\n",
        "    for idx, row in results.iterrows():\n",
        "        sensor_id = row['Sensor ID']\n",
        "        days_over_threshold = row['Days Over Threshold']  # Get the existing count\n",
        "\n",
        "        # Calculate start and end times for the last 24 hours (midnight to midnight)\n",
        "        end_time = datetime.now().replace(hour=23, minute=59, second=59, microsecond=0)\n",
        "        start_time = end_time - timedelta(days=1)\n",
        "\n",
        "        # Get sensor data for the past 24 hours\n",
        "        data = get_sensor_data(sensor_id, start_time, end_time)\n",
        "\n",
        "        if data:\n",
        "            # Print the first entry to inspect the structure\n",
        "            print(f\"Data for sensor {sensor_id} (first entry): {data[0]}\")\n",
        "\n",
        "            # Assuming PM2.5 is in the second column, access it as data[0][1]\n",
        "            daily_avg_pm25 = data[0][1]\n",
        "\n",
        "            # Check if the daily average exceeds the threshold\n",
        "            if daily_avg_pm25 > threshold:\n",
        "                days_over_threshold += 1\n",
        "\n",
        "        # Update the 'Days Over Threshold' in the DataFrame\n",
        "        results.at[idx, 'Days Over Threshold'] = days_over_threshold\n",
        "\n",
        "    # Save updated results back to the CSV file\n",
        "    results.to_csv(file, index=False)\n",
        "\n",
        "    return results\n"
      ],
      "metadata": {
        "id": "af5r41ZbGtPu"
      },
      "execution_count": 21,
      "outputs": []
    },
    {
      "cell_type": "code",
      "source": [
        "df = calculate_days_over_threshold(THRESHOLD, DATA_FILE)\n",
        "print(df)"
      ],
      "metadata": {
        "id": "W7x-LPQ0FSn-",
        "colab": {
          "base_uri": "https://localhost:8080/"
        },
        "outputId": "1d415a80-88c7-4df5-9d13-b3fd69534844"
      },
      "execution_count": 22,
      "outputs": [
        {
          "output_type": "stream",
          "name": "stdout",
          "text": [
            "Data for sensor 118509: [[1730505600, 0.4]]\n",
            "Data for sensor 118509 (first entry): [1730505600, 0.4]\n",
            "Error fetching data for sensor 120937: 429\n",
            "Response: {\n",
            "  \"api_version\" : \"V1.0.14-0.0.58\",\n",
            "  \"time_stamp\" : 1730672785,\n",
            "  \"error\" : \"RateLimitExceededError\",\n",
            "  \"description\" : \"Available API call limit exceeded, please try later.\"\n",
            "}\n",
            "Data for sensor 97139: [[1730505600, 12.8]]\n",
            "Data for sensor 97139 (first entry): [1730505600, 12.8]\n",
            "   Sensor ID Sensor Name   Latitude   Longitude  Days Over Threshold\n",
            "0     118509      Arroyo  37.654472 -122.438830                    1\n",
            "1     120937   Elm Court  37.659030 -122.417470                    1\n",
            "2      97139         Mom  37.658127 -122.478355                    2\n"
          ]
        }
      ]
    }
  ]
}
